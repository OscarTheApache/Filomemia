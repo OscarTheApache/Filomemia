#hecho con chatGPT
import spacy
from spacy import displacy
from IPython.core.display import display, HTML
import json

def obtener_texto():
    # root = tk.Tk()
    # root.withdraw()
    # ruta_archivo = filedialog.askopenfilename()
    ruta_archivo = "C:/Users/chej_/Documents/Filomemia/corpus/Genesis.txt"

    if ruta_archivo.lower().endswith('.txt'):
        with open(ruta_archivo, 'r') as archivo:
            texto = archivo.read()
    else:
        texto = None
        print("El archivo no es válido. Debe ser un archivo TXT.")
    return texto

def visualize_sentence(doc):
    displacy.render(doc, style="dep", jupyter=False, options={"distance": 90})
    displacy.render(doc, style="ent", jupyter=False)
    html = displacy.render(doc, style="dep", options={"distance": 90}, page=True)
    data = {"text": doc.text, "html": html}
    return data

texto = obtener_texto()
nlp = spacy.load('en_core_web_sm')
doc = nlp(texto)
oraciones = list(doc.sents)[8]
data = visualize_sentence(oraciones)
json_data = json.dumps(data)

with open("data.json", "w") as f:
    f.write(json_data)

display(HTML(data['html']))
